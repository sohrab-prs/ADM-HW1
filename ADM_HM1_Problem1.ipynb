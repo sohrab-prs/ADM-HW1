{
 "cells": [
  {
   "cell_type": "markdown",
   "id": "e688f2cd",
   "metadata": {},
   "source": [
    "Problem 1"
   ]
  },
  {
   "cell_type": "code",
   "execution_count": null,
   "id": "d8ef993d",
   "metadata": {},
   "outputs": [],
   "source": [
    "#Arithmetic Operators\n",
    "if __name__ == '__main__':\n",
    "    a = int(input())\n",
    "    b = int(input())\n",
    "\n",
    "    print(a+b)\n",
    "    print(a-b)\n",
    "    print(a*b)"
   ]
  },
  {
   "cell_type": "code",
   "execution_count": null,
   "id": "07bd1f85",
   "metadata": {},
   "outputs": [],
   "source": [
    "#Python: Division\n",
    "if __name__ == '__main__':\n",
    "    a = int(input())\n",
    "    b = int(input())\n",
    "    \n",
    "    print(a//b)\n",
    "    print(a/b)"
   ]
  },
  {
   "cell_type": "code",
   "execution_count": null,
   "id": "d5bd5584",
   "metadata": {},
   "outputs": [],
   "source": [
    "#Loops\n",
    "if __name__ == '__main__':\n",
    "    n = int(input())\n",
    "    \n",
    "    for i in range(0,n):\n",
    "        print(i**2)"
   ]
  },
  {
   "cell_type": "code",
   "execution_count": null,
   "id": "845af8b6",
   "metadata": {},
   "outputs": [],
   "source": [
    "#Write a function\n",
    "def is_leap(year):\n",
    "    leap = False\n",
    "    \n",
    "    # Write your logic here\n",
    "    if (year % 4 == 0 and year % 100 != 0) or (year % 400 == 0):\n",
    "        leap = True\n",
    "    else:\n",
    "        pass\n",
    "        \n",
    "    return leap"
   ]
  },
  {
   "cell_type": "code",
   "execution_count": null,
   "id": "bbcada32",
   "metadata": {},
   "outputs": [],
   "source": [
    "#Print Function\n",
    "if __name__ == '__main__':\n",
    "    n = int(input())\n",
    "\n",
    "    Out = \"\"\n",
    "\n",
    "    for i in range(1,n+1):\n",
    "        Out += str(i)\n",
    "    \n",
    "    print(Out)"
   ]
  },
  {
   "cell_type": "code",
   "execution_count": null,
   "id": "893c7fe0",
   "metadata": {},
   "outputs": [],
   "source": [
    "#List Comprehensions\n",
    "if __name__ == '__main__':\n",
    "    x = int(input())\n",
    "    y = int(input())\n",
    "    z = int(input())\n",
    "    n = int(input())\n",
    "\n",
    "    Out = [[i,j,k] for i in range(0,x+1) for j in range(0,y+1) for k in range(0,z+1) if i+j+k != n]\n",
    "\n",
    "    print(Out)"
   ]
  },
  {
   "cell_type": "code",
   "execution_count": null,
   "id": "cfb1f707",
   "metadata": {},
   "outputs": [],
   "source": [
    "#Find the Runner-Up Score!\n",
    "if __name__ == '__main__':\n",
    "    n = int(input())\n",
    "    arr = map(int, input().split())\n",
    "    \n",
    "    Out = list(set(sorted(list(arr))))[-2]\n",
    "\n",
    "    print(Out)"
   ]
  },
  {
   "cell_type": "code",
   "execution_count": null,
   "id": "f09f26bc",
   "metadata": {},
   "outputs": [],
   "source": [
    "#Nested Lists\n",
    "if __name__ == '__main__':\n",
    "    \n",
    "    grades = []\n",
    "    students = []    \n",
    "    \n",
    "    for _ in range(int(input())):\n",
    "        name = input()\n",
    "        score = float(input())\n",
    "        grades.append(score)\n",
    "        students.append([name,score])\n",
    "\n",
    "    second_min = list(sorted(set(grades)))[1]\n",
    "    target_names = []\n",
    "    for s in students:\n",
    "        if s[1] == second_min:\n",
    "            target_names.append(s[0])\n",
    "    target_names.sort()\n",
    "    for n in target_names:\n",
    "        print(n)"
   ]
  },
  {
   "cell_type": "code",
   "execution_count": null,
   "id": "9af7a2f7",
   "metadata": {},
   "outputs": [],
   "source": [
    "#Python If-Else\n",
    "#!/bin/python3\n",
    "\n",
    "import math\n",
    "import os\n",
    "import random\n",
    "import re\n",
    "import sys\n",
    "\n",
    "if __name__ == '__main__':\n",
    "    n = int(input().strip())\n",
    "if n % 2 != 0:\n",
    "    print(\"Weird\")\n",
    "elif (n % 2 == 0) and (2 <= n <= 5):\n",
    "    print(\"Not Weird\")\n",
    "elif (n % 2 == 0) and (6 <= n <= 20):\n",
    "    print(\"Weird\")\n",
    "elif (n % 2 == 0) and (n > 20):\n",
    "    print(\"Not Weird\")  "
   ]
  },
  {
   "cell_type": "code",
   "execution_count": null,
   "id": "bc857b8e",
   "metadata": {},
   "outputs": [],
   "source": [
    "#Say \"Hello, World!\" With Python\n",
    "if __name__ == '__main__':\n",
    "    print(\"Hello, World!\")"
   ]
  }
 ],
 "metadata": {
  "kernelspec": {
   "display_name": "Python 3 (ipykernel)",
   "language": "python",
   "name": "python3"
  },
  "language_info": {
   "codemirror_mode": {
    "name": "ipython",
    "version": 3
   },
   "file_extension": ".py",
   "mimetype": "text/x-python",
   "name": "python",
   "nbconvert_exporter": "python",
   "pygments_lexer": "ipython3",
   "version": "3.9.7"
  }
 },
 "nbformat": 4,
 "nbformat_minor": 5
}
